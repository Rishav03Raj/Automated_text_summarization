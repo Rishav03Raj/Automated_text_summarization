{
  "nbformat": 4,
  "nbformat_minor": 0,
  "metadata": {
    "colab": {
      "provenance": [],
      "toc_visible": true,
      "authorship_tag": "ABX9TyM12qG3Mv5pz1IMjNC+h6kC",
      "include_colab_link": true
    },
    "kernelspec": {
      "name": "python3",
      "display_name": "Python 3"
    },
    "language_info": {
      "name": "python"
    }
  },
  "cells": [
    {
      "cell_type": "markdown",
      "metadata": {
        "id": "view-in-github",
        "colab_type": "text"
      },
      "source": [
        "<a href=\"https://colab.research.google.com/github/Rishav03Raj/Automated_text_summarization/blob/main/summary.ipynb\" target=\"_parent\"><img src=\"https://colab.research.google.com/assets/colab-badge.svg\" alt=\"Open In Colab\"/></a>"
      ]
    },
    {
      "cell_type": "markdown",
      "source": [
        "# Automatic Text Summarization"
      ],
      "metadata": {
        "id": "cHqTYyv-wwE7"
      }
    },
    {
      "cell_type": "markdown",
      "source": [
        "**Import Libraries**"
      ],
      "metadata": {
        "id": "cj6f-4Nvw8oy"
      }
    },
    {
      "cell_type": "code",
      "source": [
        "# Import necessary libraries\n",
        "import re\n",
        "import nltk\n",
        "import heapq\n",
        "from string import punctuation\n",
        "from google.colab import files\n",
        "import io\n",
        "\n",
        "# Download required NLTK data\n",
        "nltk.download('punkt')\n",
        "nltk.download('stopwords')\n",
        "nltk.download('punkt_tab')"
      ],
      "metadata": {
        "colab": {
          "base_uri": "https://localhost:8080/"
        },
        "id": "J6l9mwNuw4vi",
        "outputId": "5f97e1c2-1fb0-4e6e-c64d-1af196724420"
      },
      "execution_count": 8,
      "outputs": [
        {
          "output_type": "stream",
          "name": "stderr",
          "text": [
            "[nltk_data] Downloading package punkt to /root/nltk_data...\n",
            "[nltk_data]   Package punkt is already up-to-date!\n",
            "[nltk_data] Downloading package stopwords to /root/nltk_data...\n",
            "[nltk_data]   Package stopwords is already up-to-date!\n",
            "[nltk_data] Downloading package punkt_tab to /root/nltk_data...\n",
            "[nltk_data]   Unzipping tokenizers/punkt_tab.zip.\n"
          ]
        },
        {
          "output_type": "execute_result",
          "data": {
            "text/plain": [
              "True"
            ]
          },
          "metadata": {},
          "execution_count": 8
        }
      ]
    },
    {
      "cell_type": "code",
      "source": [
        "# Install the pypdf library to handle PDF files.# Install required libraries for PDF, AI, and article scraping\n",
        "!pip install pypdf\n",
        "!pip install -q -U google-generativeai\n",
        "!pip install newspaper3k\n",
        "!pip install pypdf"
      ],
      "metadata": {
        "colab": {
          "base_uri": "https://localhost:8080/"
        },
        "id": "CbTdZMa_xMpO",
        "outputId": "f01c90be-213e-4f10-a757-fac32422873b"
      },
      "execution_count": 2,
      "outputs": [
        {
          "output_type": "stream",
          "name": "stdout",
          "text": [
            "Requirement already satisfied: pypdf in /usr/local/lib/python3.12/dist-packages (6.0.0)\n",
            "Requirement already satisfied: newspaper3k in /usr/local/lib/python3.12/dist-packages (0.2.8)\n",
            "Requirement already satisfied: beautifulsoup4>=4.4.1 in /usr/local/lib/python3.12/dist-packages (from newspaper3k) (4.13.5)\n",
            "Requirement already satisfied: Pillow>=3.3.0 in /usr/local/lib/python3.12/dist-packages (from newspaper3k) (11.3.0)\n",
            "Requirement already satisfied: PyYAML>=3.11 in /usr/local/lib/python3.12/dist-packages (from newspaper3k) (6.0.2)\n",
            "Requirement already satisfied: cssselect>=0.9.2 in /usr/local/lib/python3.12/dist-packages (from newspaper3k) (1.3.0)\n",
            "Requirement already satisfied: lxml>=3.6.0 in /usr/local/lib/python3.12/dist-packages (from newspaper3k) (6.0.1)\n",
            "Requirement already satisfied: nltk>=3.2.1 in /usr/local/lib/python3.12/dist-packages (from newspaper3k) (3.9.1)\n",
            "Requirement already satisfied: requests>=2.10.0 in /usr/local/lib/python3.12/dist-packages (from newspaper3k) (2.32.4)\n",
            "Requirement already satisfied: feedparser>=5.2.1 in /usr/local/lib/python3.12/dist-packages (from newspaper3k) (6.0.11)\n",
            "Requirement already satisfied: tldextract>=2.0.1 in /usr/local/lib/python3.12/dist-packages (from newspaper3k) (5.3.0)\n",
            "Requirement already satisfied: feedfinder2>=0.0.4 in /usr/local/lib/python3.12/dist-packages (from newspaper3k) (0.0.4)\n",
            "Requirement already satisfied: jieba3k>=0.35.1 in /usr/local/lib/python3.12/dist-packages (from newspaper3k) (0.35.1)\n",
            "Requirement already satisfied: python-dateutil>=2.5.3 in /usr/local/lib/python3.12/dist-packages (from newspaper3k) (2.9.0.post0)\n",
            "Requirement already satisfied: tinysegmenter==0.3 in /usr/local/lib/python3.12/dist-packages (from newspaper3k) (0.3)\n",
            "Requirement already satisfied: soupsieve>1.2 in /usr/local/lib/python3.12/dist-packages (from beautifulsoup4>=4.4.1->newspaper3k) (2.8)\n",
            "Requirement already satisfied: typing-extensions>=4.0.0 in /usr/local/lib/python3.12/dist-packages (from beautifulsoup4>=4.4.1->newspaper3k) (4.15.0)\n",
            "Requirement already satisfied: six in /usr/local/lib/python3.12/dist-packages (from feedfinder2>=0.0.4->newspaper3k) (1.17.0)\n",
            "Requirement already satisfied: sgmllib3k in /usr/local/lib/python3.12/dist-packages (from feedparser>=5.2.1->newspaper3k) (1.0.0)\n",
            "Requirement already satisfied: click in /usr/local/lib/python3.12/dist-packages (from nltk>=3.2.1->newspaper3k) (8.2.1)\n",
            "Requirement already satisfied: joblib in /usr/local/lib/python3.12/dist-packages (from nltk>=3.2.1->newspaper3k) (1.5.2)\n",
            "Requirement already satisfied: regex>=2021.8.3 in /usr/local/lib/python3.12/dist-packages (from nltk>=3.2.1->newspaper3k) (2024.11.6)\n",
            "Requirement already satisfied: tqdm in /usr/local/lib/python3.12/dist-packages (from nltk>=3.2.1->newspaper3k) (4.67.1)\n",
            "Requirement already satisfied: charset_normalizer<4,>=2 in /usr/local/lib/python3.12/dist-packages (from requests>=2.10.0->newspaper3k) (3.4.3)\n",
            "Requirement already satisfied: idna<4,>=2.5 in /usr/local/lib/python3.12/dist-packages (from requests>=2.10.0->newspaper3k) (3.10)\n",
            "Requirement already satisfied: urllib3<3,>=1.21.1 in /usr/local/lib/python3.12/dist-packages (from requests>=2.10.0->newspaper3k) (2.5.0)\n",
            "Requirement already satisfied: certifi>=2017.4.17 in /usr/local/lib/python3.12/dist-packages (from requests>=2.10.0->newspaper3k) (2025.8.3)\n",
            "Requirement already satisfied: requests-file>=1.4 in /usr/local/lib/python3.12/dist-packages (from tldextract>=2.0.1->newspaper3k) (2.1.0)\n",
            "Requirement already satisfied: filelock>=3.0.8 in /usr/local/lib/python3.12/dist-packages (from tldextract>=2.0.1->newspaper3k) (3.19.1)\n",
            "Requirement already satisfied: pypdf in /usr/local/lib/python3.12/dist-packages (6.0.0)\n"
          ]
        }
      ]
    },
    {
      "cell_type": "code",
      "source": [
        "# Import the specialized libraries\n",
        "from pypdf import PdfReader\n",
        "import google.generativeai as genai\n",
        "# Uninstall and reinstall newspaper3k to ensure correct dependency\n",
        "!pip uninstall -y newspaper3k\n",
        "!pip install newspaper3k\n",
        "# Uninstall existing lxml and lxml_html_clean and install lxml with html_clean extra\n",
        "!pip uninstall -y lxml lxml_html_clean\n",
        "!pip install lxml[html_clean]\n",
        "from newspaper import Article # This is the advanced scraper we will use"
      ],
      "metadata": {
        "colab": {
          "base_uri": "https://localhost:8080/"
        },
        "id": "Nz4D7p9rxbSg",
        "outputId": "a8116a91-1e8a-41d4-d17f-fa35614d006e"
      },
      "execution_count": 3,
      "outputs": [
        {
          "output_type": "stream",
          "name": "stdout",
          "text": [
            "Found existing installation: newspaper3k 0.2.8\n",
            "Uninstalling newspaper3k-0.2.8:\n",
            "  Successfully uninstalled newspaper3k-0.2.8\n",
            "Collecting newspaper3k\n",
            "  Using cached newspaper3k-0.2.8-py3-none-any.whl.metadata (11 kB)\n",
            "Requirement already satisfied: beautifulsoup4>=4.4.1 in /usr/local/lib/python3.12/dist-packages (from newspaper3k) (4.13.5)\n",
            "Requirement already satisfied: Pillow>=3.3.0 in /usr/local/lib/python3.12/dist-packages (from newspaper3k) (11.3.0)\n",
            "Requirement already satisfied: PyYAML>=3.11 in /usr/local/lib/python3.12/dist-packages (from newspaper3k) (6.0.2)\n",
            "Requirement already satisfied: cssselect>=0.9.2 in /usr/local/lib/python3.12/dist-packages (from newspaper3k) (1.3.0)\n",
            "Requirement already satisfied: lxml>=3.6.0 in /usr/local/lib/python3.12/dist-packages (from newspaper3k) (6.0.1)\n",
            "Requirement already satisfied: nltk>=3.2.1 in /usr/local/lib/python3.12/dist-packages (from newspaper3k) (3.9.1)\n",
            "Requirement already satisfied: requests>=2.10.0 in /usr/local/lib/python3.12/dist-packages (from newspaper3k) (2.32.4)\n",
            "Requirement already satisfied: feedparser>=5.2.1 in /usr/local/lib/python3.12/dist-packages (from newspaper3k) (6.0.11)\n",
            "Requirement already satisfied: tldextract>=2.0.1 in /usr/local/lib/python3.12/dist-packages (from newspaper3k) (5.3.0)\n",
            "Requirement already satisfied: feedfinder2>=0.0.4 in /usr/local/lib/python3.12/dist-packages (from newspaper3k) (0.0.4)\n",
            "Requirement already satisfied: jieba3k>=0.35.1 in /usr/local/lib/python3.12/dist-packages (from newspaper3k) (0.35.1)\n",
            "Requirement already satisfied: python-dateutil>=2.5.3 in /usr/local/lib/python3.12/dist-packages (from newspaper3k) (2.9.0.post0)\n",
            "Requirement already satisfied: tinysegmenter==0.3 in /usr/local/lib/python3.12/dist-packages (from newspaper3k) (0.3)\n",
            "Requirement already satisfied: soupsieve>1.2 in /usr/local/lib/python3.12/dist-packages (from beautifulsoup4>=4.4.1->newspaper3k) (2.8)\n",
            "Requirement already satisfied: typing-extensions>=4.0.0 in /usr/local/lib/python3.12/dist-packages (from beautifulsoup4>=4.4.1->newspaper3k) (4.15.0)\n",
            "Requirement already satisfied: six in /usr/local/lib/python3.12/dist-packages (from feedfinder2>=0.0.4->newspaper3k) (1.17.0)\n",
            "Requirement already satisfied: sgmllib3k in /usr/local/lib/python3.12/dist-packages (from feedparser>=5.2.1->newspaper3k) (1.0.0)\n",
            "Requirement already satisfied: click in /usr/local/lib/python3.12/dist-packages (from nltk>=3.2.1->newspaper3k) (8.2.1)\n",
            "Requirement already satisfied: joblib in /usr/local/lib/python3.12/dist-packages (from nltk>=3.2.1->newspaper3k) (1.5.2)\n",
            "Requirement already satisfied: regex>=2021.8.3 in /usr/local/lib/python3.12/dist-packages (from nltk>=3.2.1->newspaper3k) (2024.11.6)\n",
            "Requirement already satisfied: tqdm in /usr/local/lib/python3.12/dist-packages (from nltk>=3.2.1->newspaper3k) (4.67.1)\n",
            "Requirement already satisfied: charset_normalizer<4,>=2 in /usr/local/lib/python3.12/dist-packages (from requests>=2.10.0->newspaper3k) (3.4.3)\n",
            "Requirement already satisfied: idna<4,>=2.5 in /usr/local/lib/python3.12/dist-packages (from requests>=2.10.0->newspaper3k) (3.10)\n",
            "Requirement already satisfied: urllib3<3,>=1.21.1 in /usr/local/lib/python3.12/dist-packages (from requests>=2.10.0->newspaper3k) (2.5.0)\n",
            "Requirement already satisfied: certifi>=2017.4.17 in /usr/local/lib/python3.12/dist-packages (from requests>=2.10.0->newspaper3k) (2025.8.3)\n",
            "Requirement already satisfied: requests-file>=1.4 in /usr/local/lib/python3.12/dist-packages (from tldextract>=2.0.1->newspaper3k) (2.1.0)\n",
            "Requirement already satisfied: filelock>=3.0.8 in /usr/local/lib/python3.12/dist-packages (from tldextract>=2.0.1->newspaper3k) (3.19.1)\n",
            "Using cached newspaper3k-0.2.8-py3-none-any.whl (211 kB)\n",
            "Installing collected packages: newspaper3k\n",
            "Successfully installed newspaper3k-0.2.8\n",
            "Found existing installation: lxml 6.0.1\n",
            "Uninstalling lxml-6.0.1:\n",
            "  Successfully uninstalled lxml-6.0.1\n",
            "Found existing installation: lxml_html_clean 0.4.2\n",
            "Uninstalling lxml_html_clean-0.4.2:\n",
            "  Successfully uninstalled lxml_html_clean-0.4.2\n",
            "Collecting lxml[html_clean]\n",
            "  Using cached lxml-6.0.1-cp312-cp312-manylinux_2_26_x86_64.manylinux_2_28_x86_64.whl.metadata (3.8 kB)\n",
            "Collecting lxml_html_clean (from lxml[html_clean])\n",
            "  Using cached lxml_html_clean-0.4.2-py3-none-any.whl.metadata (2.4 kB)\n",
            "Using cached lxml-6.0.1-cp312-cp312-manylinux_2_26_x86_64.manylinux_2_28_x86_64.whl (5.3 MB)\n",
            "Using cached lxml_html_clean-0.4.2-py3-none-any.whl (14 kB)\n",
            "Installing collected packages: lxml, lxml_html_clean\n",
            "Successfully installed lxml-6.0.1 lxml_html_clean-0.4.2\n"
          ]
        }
      ]
    },
    {
      "cell_type": "markdown",
      "source": [
        "**2. Configure the Gemini API (for AI Summary Option)**"
      ],
      "metadata": {
        "id": "a02IsprA7ufI"
      }
    },
    {
      "cell_type": "code",
      "source": [
        "# IMPORTANT: Paste your Gemini API key here.\n",
        "# Get your key from https://aistudio.google.com/\n",
        "\n",
        "from google.colab import userdata\n",
        "\n",
        "# It's recommended to use Colab Secrets for your API key.\n",
        "# Click the key icon on the left sidebar to add a new secret named 'API_KEY'.\n",
        "API_KEY = userdata.get('API_KEY')\n",
        "\n",
        "genai.configure(api_key=API_KEY)"
      ],
      "metadata": {
        "id": "5ysGzF7d7toK"
      },
      "execution_count": 4,
      "outputs": []
    },
    {
      "cell_type": "markdown",
      "source": [
        "**Choose Summarization Method**"
      ],
      "metadata": {
        "id": "3vt33pyDxt-2"
      }
    },
    {
      "cell_type": "code",
      "source": [
        "# Ask the user to choose between summarizing from a URL or uploading a file.\n",
        "source_choice = input(\"Enter '1' to summarize from a URL, or '2' to upload a file: \")\n",
        "article_text = \"\""
      ],
      "metadata": {
        "colab": {
          "base_uri": "https://localhost:8080/"
        },
        "id": "VS7CYDnXxpzZ",
        "outputId": "b35c165e-5ed2-495f-cfb3-00c0ad8531d0"
      },
      "execution_count": 5,
      "outputs": [
        {
          "name": "stdout",
          "output_type": "stream",
          "text": [
            "Enter '1' to summarize from a URL, or '2' to upload a file: 1\n"
          ]
        }
      ]
    },
    {
      "cell_type": "markdown",
      "source": [
        "**Fetch and Parse the Article**"
      ],
      "metadata": {
        "id": "ihxBGWcAyJIj"
      }
    },
    {
      "cell_type": "code",
      "source": [
        "# --- Step 1: Get the Text from the Source ---\n",
        "\n",
        "# If the user chose to summarize from a URL.\n",
        "if source_choice == '1':\n",
        "    article_url = input(\"Please enter the article URL: \")\n",
        "    try:\n",
        "        # Use the newspaper3k library to download and parse the article.\n",
        "        article = Article(article_url)\n",
        "        article.download()\n",
        "        article.parse()\n",
        "        # Extract the main text from the parsed article.\n",
        "        article_text = article.text\n",
        "    except Exception as e:\n",
        "        print(f\"Error scraping the URL: {e}\")\n",
        "        article_text = \"\"\n",
        "\n",
        "# If the user chose to upload a file.\n",
        "elif source_choice == '2':\n",
        "    print(\"Please upload a .txt or .pdf file.\")\n",
        "    uploaded = files.upload()\n",
        "    for file_name in uploaded.keys():\n",
        "        if file_name.endswith('.txt'):\n",
        "            article_text = uploaded[file_name].decode('utf-8')\n",
        "        elif file_name.endswith('.pdf'):\n",
        "            pdf_file = io.BytesIO(uploaded[file_name])\n",
        "            reader = PdfReader(pdf_file)\n",
        "            for page in reader.pages:\n",
        "                 article_text += page.extract_text()\n",
        "\n",
        "# Handle invalid input.\n",
        "else:\n",
        "    print(\"Invalid choice for source.\")\n",
        "\n",
        "# --- Step 2: Clean the Extracted Text ---\n",
        "if article_text:\n",
        "    article_text = re.sub(r'\\[[0-9]*\\]', ' ', article_text)\n",
        "    article_text = re.sub(r'\\s+', ' ', article_text)"
      ],
      "metadata": {
        "colab": {
          "base_uri": "https://localhost:8080/"
        },
        "id": "IvlBSj0ZyBkU",
        "outputId": "e0f13682-64be-4a43-8fba-ad5342e96060"
      },
      "execution_count": 6,
      "outputs": [
        {
          "name": "stdout",
          "output_type": "stream",
          "text": [
            "Please enter the article URL: https://www.geeksforgeeks.org/dsa/longest-palindromic-substring/\n"
          ]
        }
      ]
    },
    {
      "cell_type": "markdown",
      "source": [
        "**5. Choose Summarization Type and Generate Summary**"
      ],
      "metadata": {
        "id": "JdBNbrie9QF-"
      }
    },
    {
      "cell_type": "code",
      "source": [
        "if article_text:\n",
        "    # Ask user for summary type\n",
        "    summary_choice = input(\"Enter '1' for a Fast Summary, or '2' for an AI Summary: \")\n",
        "\n",
        "    # --- Option 1: Fast (Frequency-Based) Summary ---\n",
        "    if summary_choice == '1':\n",
        "        print(\"\\n--- GENERATING FAST SUMMARY ---\")\n",
        "        # 1. Preprocess for frequency analysis\n",
        "        formatted_article_text = re.sub('[^a-zA-Z]', ' ', article_text)\n",
        "        formatted_article_text = re.sub(r'\\s+', ' ', formatted_article_text)\n",
        "\n",
        "        # 2. Tokenize and calculate word frequencies\n",
        "        sentence_list = nltk.sent_tokenize(article_text)\n",
        "        stopwords = nltk.corpus.stopwords.words('english')\n",
        "        word_frequencies = {}\n",
        "        for word in nltk.word_tokenize(formatted_article_text):\n",
        "            if word.lower() not in stopwords and word.lower() not in punctuation:\n",
        "                if word not in word_frequencies.keys():\n",
        "                    word_frequencies[word] = 1\n",
        "                else:\n",
        "                    word_frequencies[word] += 1\n",
        "\n",
        "        # 3. Calculate weighted frequencies\n",
        "        if word_frequencies:\n",
        "            maximum_frequency = max(word_frequencies.values())\n",
        "            for word in word_frequencies.keys():\n",
        "                word_frequencies[word] = (word_frequencies[word] / maximum_frequency)\n",
        "\n",
        "        # 4. Score sentences\n",
        "        sentence_scores = {}\n",
        "        for sent in sentence_list:\n",
        "            for word in nltk.word_tokenize(sent.lower()):\n",
        "                if word in word_frequencies.keys():\n",
        "                    if len(sent.split(' ')) < 30:\n",
        "                        if sent not in sentence_scores.keys():\n",
        "                            sentence_scores[sent] = word_frequencies[word]\n",
        "                        else:\n",
        "                            sentence_scores[sent] += word_frequencies[word]\n",
        "\n",
        "        # 5. Get top sentences\n",
        "        if sentence_scores:\n",
        "            summary_sentences = heapq.nlargest(7, sentence_scores, key=sentence_scores.get)\n",
        "            summary = ' '.join(summary_sentences)\n",
        "            print(\"\\n--- YOUR FAST SUMMARY ---\\n\")\n",
        "            print(summary)\n",
        "        else:\n",
        "            print(\"Could not generate a fast summary. The text may be too short or lack sufficient English content.\")\n",
        "\n",
        "\n",
        "    # --- Option 2: AI (Gemini) Summary ---\n",
        "    elif summary_choice == '2':\n",
        "        print(\"\\n--- GENERATING AI SUMMARY (this may take a moment) ---\")\n",
        "        try:\n",
        "            # Use a valid model name. You can replace 'gemini-1.5-flash-latest' with another available model from the list above.\n",
        "            model = genai.GenerativeModel('gemini-1.5-flash-latest')\n",
        "\n",
        "            prompt = \"Analyze the following text from a page. First, identify the page's purpose (e.g., news article, product page). Then, provide a concise summary of its key information. Text:\\n\\n\" + article_text\n",
        "            response = model.generate_content(prompt)\n",
        "            print(\"\\n--- YOUR AI SUMMARY ---\\n\")\n",
        "            print(response.text)\n",
        "        except Exception as e:\n",
        "            print(f\"An error occurred with the AI model: {e}\")\n",
        "            print(\"Please ensure your API key is correct and valid and that you are using an available model name.\")\n",
        "\n",
        "\n",
        "    # Handle invalid input\n",
        "    else:\n",
        "        print(\"Invalid choice for summary type.\")\n",
        "else:\n",
        "    print(\"No text was extracted. Cannot generate a summary.\")"
      ],
      "metadata": {
        "colab": {
          "base_uri": "https://localhost:8080/"
        },
        "id": "V--X9tMW9WFi",
        "outputId": "1c86ff92-a773-45fc-b18d-06b9454e90b9"
      },
      "execution_count": 9,
      "outputs": [
        {
          "output_type": "stream",
          "name": "stdout",
          "text": [
            "Enter '1' for a Fast Summary, or '2' for an AI Summary: 1\n",
            "\n",
            "--- GENERATING FAST SUMMARY ---\n",
            "\n",
            "--- YOUR FAST SUMMARY ---\n",
            "\n",
            "substring ( start , start + maxLen ); } public static void main ( String args ) { String s = \"forgeeksskeegfor\" ; System . substring ( start , start + maxLen ); } // Driver Code const s = \"forgeeksskeegfor\" ; console . Substring ( start , maxLen ); } public static void Main ( string args ) { string s = \"forgeeksskeegfor\" ; Console . Substring ( start , maxLen ); } static void Main ( string args ) { string s = \"forgeeksskeegfor\" ; Console . If the current palindrome length (high - low + 1) is greater than the previous maximum, update the starting index and max length. If the substring from i to j is not a palindrome, then the substring from i-1 to j+1 will also not be a palindrome. C++ #include <iostream> #include <vector> using namespace std ; string getLongestPal ( string s ) { int n = s .\n"
          ]
        }
      ]
    },
    {
      "cell_type": "code",
      "source": [],
      "metadata": {
        "id": "slBi4js__O5Q"
      },
      "execution_count": null,
      "outputs": []
    }
  ]
}